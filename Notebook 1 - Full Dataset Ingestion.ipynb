{
 "cells": [
  {
   "cell_type": "markdown",
   "metadata": {
    "application/vnd.databricks.v1+cell": {
     "cellMetadata": {
      "byteLimit": 2048000,
      "rowLimit": 10000
     },
     "inputWidgets": {},
     "nuid": "ea35a79a-46d1-477b-a9c7-5269f590200e",
     "showTitle": false,
     "title": ""
    }
   },
   "source": [
    "## Full Initial Data Ingestion\n",
    "###### The purpose of this first notebook is the ingestion and pre-processing of the initial data. Additionally, we set up connections to a PostgreSQL Database hosted on Azure Cloud, in order to execute SQL queries. The most basic among them, are the queries which create and the queries which populate the database's tables."
   ]
  },
  {
   "cell_type": "markdown",
   "metadata": {
    "application/vnd.databricks.v1+cell": {
     "cellMetadata": {},
     "inputWidgets": {},
     "nuid": "67f4a456-3f55-4a22-9ded-d12447f142dd",
     "showTitle": false,
     "title": ""
    }
   },
   "source": [
    "#### [1] Mount our Container"
   ]
  },
  {
   "cell_type": "code",
   "execution_count": 0,
   "metadata": {
    "application/vnd.databricks.v1+cell": {
     "cellMetadata": {
      "byteLimit": 2048000,
      "rowLimit": 10000
     },
     "inputWidgets": {},
     "nuid": "f5d8267f-bd2f-4911-95b2-bfa79fc4608b",
     "showTitle": false,
     "title": ""
    }
   },
   "outputs": [
    {
     "output_type": "stream",
     "name": "stdout",
     "output_type": "stream",
     "text": [
      "Mount already exists.\n"
     ]
    }
   ],
   "source": [
    "# Checking if mount already exists\n",
    "mnts = dbutils.fs.mounts()\n",
    "mnt_exists = False\n",
    "for mount in mnts:\n",
    "    if mount.mountPoint == \"/mnt/historical\":\n",
    "        mnt_exists = True\n",
    "\n",
    "if mnt_exists == False:\n",
    "    # Setup some parameters and keys\n",
    "    account_name = \"trajectoriesstorage\"\n",
    "    container = \"historical\"\n",
    "    access_key = dbutils.secrets.get(scope=\"key-vault-connect\", key=\"storage-key\")\n",
    "\n",
    "    # Define the connection configurations\n",
    "    configs = {\n",
    "        \"fs.azure.account.auth.type\": \"key\",\n",
    "        \"fs.azure.account.key.\"+account_name+\".blob.core.windows.net\": access_key\n",
    "    }\n",
    "\n",
    "    # Command to mount the blob storage container locally\n",
    "    dbutils.fs.mount(\n",
    "    source = f\"wasbs://{container}@{account_name}.blob.core.windows.net\",\n",
    "    mount_point = \"/mnt/historical\",\n",
    "    extra_configs = configs)\n",
    "else:\n",
    "    print(\"Mount already exists.\")\n"
   ]
  },
  {
   "cell_type": "markdown",
   "metadata": {
    "application/vnd.databricks.v1+cell": {
     "cellMetadata": {
      "byteLimit": 2048000,
      "rowLimit": 10000
     },
     "inputWidgets": {},
     "nuid": "1ca1b752-2e86-4220-aaec-81722cd8c0ac",
     "showTitle": false,
     "title": ""
    }
   },
   "source": [
    "### [2] Checking file sizes"
   ]
  },
  {
   "cell_type": "code",
   "execution_count": 0,
   "metadata": {
    "application/vnd.databricks.v1+cell": {
     "cellMetadata": {
      "byteLimit": 2048000,
      "rowLimit": 10000
     },
     "inputWidgets": {},
     "nuid": "7e786292-d2de-429a-9ea7-a62bf7bfb038",
     "showTitle": false,
     "title": ""
    }
   },
   "outputs": [
    {
     "output_type": "stream",
     "name": "stdout",
     "output_type": "stream",
     "text": [
      "1334\n"
     ]
    }
   ],
   "source": [
    "directory = \"/dbfs/mnt/historical\"\n",
    "\n",
    "import os\n",
    "ListofFiles = []\n",
    "for file in os.listdir(directory):\n",
    "    with open(os.path.join(directory, file), 'r') as f:\n",
    "        line_count = 0\n",
    "        for line in f:\n",
    "            line_count += 1\n",
    "        #print(line_count)\n",
    "        if line_count >= 4:\n",
    "            ListofFiles.append(file)\n",
    "\n",
    "print(len(ListofFiles))"
   ]
  },
  {
   "cell_type": "code",
   "execution_count": 0,
   "metadata": {
    "application/vnd.databricks.v1+cell": {
     "cellMetadata": {
      "byteLimit": 2048000,
      "rowLimit": 10000
     },
     "inputWidgets": {},
     "nuid": "6ae24424-dbc5-4d96-b6b9-e11f93e28b08",
     "showTitle": false,
     "title": ""
    }
   },
   "outputs": [
    {
     "output_type": "stream",
     "name": "stdout",
     "output_type": "stream",
     "text": [
      "1334\n"
     ]
    }
   ],
   "source": []
  },
  {
   "cell_type": "markdown",
   "metadata": {
    "application/vnd.databricks.v1+cell": {
     "cellMetadata": {
      "byteLimit": 2048000,
      "rowLimit": 10000
     },
     "inputWidgets": {},
     "nuid": "0442ce08-3c82-4d50-90f5-21a04fa17f17",
     "showTitle": false,
     "title": ""
    }
   },
   "source": [
    "### [3] Loading files into dataframe + adding CloudID"
   ]
  },
  {
   "cell_type": "code",
   "execution_count": 0,
   "metadata": {
    "application/vnd.databricks.v1+cell": {
     "cellMetadata": {
      "byteLimit": 2048000,
      "rowLimit": 10000
     },
     "inputWidgets": {},
     "nuid": "bdfae0a1-b819-44fd-8e34-4f4f51687d78",
     "showTitle": false,
     "title": ""
    }
   },
   "outputs": [
    {
     "output_type": "display_data",
     "data": {
      "application/vnd.databricks.v1+bamboolib_hint": "{\"pd.DataFrames\": [], \"version\": \"0.0.1\"}",
      "text/plain": []
     },
     "metadata": {},
     "output_type": "display_data"
    }
   ],
   "source": [
    "import pandas as pd\n",
    "import re\n",
    "\n",
    "from pandas.errors import ParserError\n",
    "\n",
    "# Create an empty list to hold the dataframes\n",
    "dfs = []\n",
    "\n",
    "# Create a list to hold all the bad txts that need handling\n",
    "bad_txts = []\n",
    "\n",
    "# Initialize a CloudIDs dict\n",
    "DictionaryofIDs = {}\n",
    "\n",
    "# Iterate over the files in the directory and load each file into a dataframe\n",
    "for file in ListofFiles:\n",
    "    \n",
    "    path = os.path.join(directory, file)\n",
    "    \n",
    "    try:\n",
    "        new_df = pd.read_csv(path, header = None, sep =\" \")\n",
    "        \n",
    "        num_columns = len(new_df.columns)\n",
    "        \n",
    "        if num_columns > 156:\n",
    "            bad_txts.append(file)\n",
    "            \n",
    "            \n",
    "        else:\n",
    "            \n",
    "            \n",
    "                # Include Cloud ID\n",
    "                # Extract the starting timestamp and ID as the CloudID\n",
    "                \n",
    "                match = re.search(r\"-([^-]*)-\", file)\n",
    "                result =  match.group(1)\n",
    "                result =  result.replace('.', '')\n",
    "                CloudID = int(result)\n",
    "            \n",
    "                # Create a CloudID column\n",
    "                \n",
    "                DictionaryofIDs[file] = CloudID\n",
    "                rows =  len(new_df) # Count the rows of the file\n",
    "                cloud_id_list = [CloudID]*rows  # Create a list of the same number (the cloud ID) with #rows elements\n",
    "                new_df[\"CloudID\"] = cloud_id_list # Assign a new column in the dataframe with the CloudID\n",
    "               \n",
    "            \n",
    "                dfs.append(new_df)\n",
    "                \n",
    "            \n",
    "    except ParserError:\n",
    "        bad_txts.append(file)\n",
    "\n",
    "# Concatenate the dataframes into a single dataframe\n",
    "CombinedDataframe = pd.concat(dfs, ignore_index=True)       "
   ]
  },
  {
   "cell_type": "code",
   "execution_count": 0,
   "metadata": {
    "application/vnd.databricks.v1+cell": {
     "cellMetadata": {},
     "inputWidgets": {},
     "nuid": "6e9e02cc-272d-4ec4-a8f6-a04e09210335",
     "showTitle": false,
     "title": ""
    }
   },
   "outputs": [],
   "source": []
  },
  {
   "cell_type": "markdown",
   "metadata": {
    "application/vnd.databricks.v1+cell": {
     "cellMetadata": {
      "byteLimit": 2048000,
      "rowLimit": 10000
     },
     "inputWidgets": {},
     "nuid": "8478bc14-0cc8-4688-bc10-46bde6335abd",
     "showTitle": false,
     "title": ""
    }
   },
   "source": [
    "### [4] Renaming some columns and adding timestamps"
   ]
  },
  {
   "cell_type": "code",
   "execution_count": 0,
   "metadata": {
    "application/vnd.databricks.v1+cell": {
     "cellMetadata": {
      "byteLimit": 2048000,
      "rowLimit": 10000
     },
     "inputWidgets": {},
     "nuid": "1ce8793d-bc31-43b2-9273-c9cfcaa84056",
     "showTitle": false,
     "title": ""
    }
   },
   "outputs": [],
   "source": [
    "# Rename the year, month, day, hour, minute columns to create a single timestamp column\n",
    "CombinedDataframe.rename(columns = {144: \"year\", 145: \"month\", 146: \"day\", 147: \"hour\", 148: \"minute\"}, inplace = True)\n",
    "\n",
    "# More renames\n",
    "CombinedDataframe.rename(columns = {0: \"ID\"}, inplace = True)\n",
    "CombinedDataframe.rename(columns = {1: \"Area_Size\", 2: \"Xg_Cloud\", 3: \"Yg_Cloud\", 10: \"T_Mean_B5\", 11: \"T_Mean_B6\", 12: \"T_Mean_B7\", 13: \"T_Mean_B9\", 14: \"T_Mean_B10\", 15: \"T_Min_B5\", 16: \"T_Min_B6\", 17: \"T_Min_B7\", 18: \"T_Min_B9\", 19: \"T_Min_B10\", 20: \"T_Mode_B5\", 21: \"T_Mode_B6\", 22: \"T_Mode_B7\", 23: \"T_Mode_B9\", 24: \"T_Mode_B10\", 149: \"M_S_Symbol\", 150: \"d_area\", 151: \"d_tempC10_B5\", 152: \"d_tempC10_B9\", 153: \"d_tempC50_B5\", 154: \"d_tempC50_B9\", 155: \"Skew_B9\"}, inplace = True)\n",
    "\n",
    "# Add the timestamp column\n",
    "CombinedDataframe[\"Timestamp\"] = pd.to_datetime(CombinedDataframe[[\"year\", \"month\", \"day\", \"hour\", \"minute\"]])\n",
    "\n",
    "# Drop the column with the typos\n",
    "CombinedDataframe.drop([28], axis=1, inplace=True)\n",
    "\n",
    "# Replace the symbols ## with 0 for initial rate of change value\n",
    "CombinedDataframe.replace(\"##\",0.0, inplace=True)"
   ]
  },
  {
   "cell_type": "code",
   "execution_count": 0,
   "metadata": {
    "application/vnd.databricks.v1+cell": {
     "cellMetadata": {
      "byteLimit": 2048000,
      "rowLimit": 10000
     },
     "inputWidgets": {},
     "nuid": "af52cf6c-7603-428d-bd4f-e237fc6a159c",
     "showTitle": false,
     "title": ""
    }
   },
   "outputs": [],
   "source": [
    "# We keep only specific columns of the CombinedDataframe\n",
    "FinalDataframe = CombinedDataframe[[\"ID\", \"Area_Size\", \"Xg_Cloud\", \"Yg_Cloud\", \"T_Mean_B5\", \"T_Mean_B6\",\"T_Mean_B7\", \"T_Mean_B9\", \"T_Mean_B10\", \"T_Min_B5\", \"T_Min_B6\", \"T_Min_B7\", \"T_Min_B9\", \"T_Min_B10\", \"T_Mode_B5\", \"T_Mode_B6\", \"T_Mode_B7\", \"T_Mode_B9\", \"T_Mode_B10\", \"M_S_Symbol\", \"d_area\", \"d_tempC10_B5\", \"d_tempC10_B9\", \"d_tempC50_B5\", \"d_tempC50_B9\", \"Skew_B9\", \"CloudID\", \"Timestamp\"]].copy()"
   ]
  },
  {
   "cell_type": "code",
   "execution_count": 0,
   "metadata": {
    "application/vnd.databricks.v1+cell": {
     "cellMetadata": {
      "byteLimit": 2048000,
      "rowLimit": 10000
     },
     "inputWidgets": {},
     "nuid": "96d560fb-1420-483c-8f0b-d0d27c6c5137",
     "showTitle": false,
     "title": ""
    }
   },
   "outputs": [
    {
     "output_type": "display_data",
     "data": {
      "text/html": [
       "<div>\n",
       "<style scoped>\n",
       "    .dataframe tbody tr th:only-of-type {\n",
       "        vertical-align: middle;\n",
       "    }\n",
       "\n",
       "    .dataframe tbody tr th {\n",
       "        vertical-align: top;\n",
       "    }\n",
       "\n",
       "    .dataframe thead th {\n",
       "        text-align: right;\n",
       "    }\n",
       "</style>\n",
       "<table border=\"1\" class=\"dataframe\">\n",
       "  <thead>\n",
       "    <tr style=\"text-align: right;\">\n",
       "      <th></th>\n",
       "      <th>ID</th>\n",
       "      <th>Area_Size</th>\n",
       "      <th>Xg_Cloud</th>\n",
       "      <th>Yg_Cloud</th>\n",
       "      <th>T_Mean_B5</th>\n",
       "      <th>T_Mean_B6</th>\n",
       "      <th>T_Mean_B7</th>\n",
       "      <th>T_Mean_B9</th>\n",
       "      <th>T_Mean_B10</th>\n",
       "      <th>T_Min_B5</th>\n",
       "      <th>...</th>\n",
       "      <th>T_Mode_B10</th>\n",
       "      <th>M_S_Symbol</th>\n",
       "      <th>d_area</th>\n",
       "      <th>d_tempC10_B5</th>\n",
       "      <th>d_tempC10_B9</th>\n",
       "      <th>d_tempC50_B5</th>\n",
       "      <th>d_tempC50_B9</th>\n",
       "      <th>Skew_B9</th>\n",
       "      <th>CloudID</th>\n",
       "      <th>Timestamp</th>\n",
       "    </tr>\n",
       "  </thead>\n",
       "  <tbody>\n",
       "    <tr>\n",
       "      <th>0</th>\n",
       "      <td>1</td>\n",
       "      <td>5536</td>\n",
       "      <td>-3.13</td>\n",
       "      <td>47.49</td>\n",
       "      <td>225.84</td>\n",
       "      <td>228.68</td>\n",
       "      <td>228.20</td>\n",
       "      <td>227.04</td>\n",
       "      <td>215.3</td>\n",
       "      <td>215.6</td>\n",
       "      <td>...</td>\n",
       "      <td>1.25</td>\n",
       "      <td>N</td>\n",
       "      <td>0.0</td>\n",
       "      <td>0.0</td>\n",
       "      <td>0.0</td>\n",
       "      <td>0.0</td>\n",
       "      <td>0.0</td>\n",
       "      <td>0.0</td>\n",
       "      <td>2020020100001</td>\n",
       "      <td>2020-02-01 00:00:00</td>\n",
       "    </tr>\n",
       "    <tr>\n",
       "      <th>1</th>\n",
       "      <td>1</td>\n",
       "      <td>5689</td>\n",
       "      <td>-3.06</td>\n",
       "      <td>47.56</td>\n",
       "      <td>225.84</td>\n",
       "      <td>228.65</td>\n",
       "      <td>228.17</td>\n",
       "      <td>227.03</td>\n",
       "      <td>216.3</td>\n",
       "      <td>216.1</td>\n",
       "      <td>...</td>\n",
       "      <td>1.05</td>\n",
       "      <td>S</td>\n",
       "      <td>153</td>\n",
       "      <td>1.2</td>\n",
       "      <td>1.6</td>\n",
       "      <td>0.4</td>\n",
       "      <td>1.6</td>\n",
       "      <td>0.89</td>\n",
       "      <td>2020020100001</td>\n",
       "      <td>2020-02-01 00:15:00</td>\n",
       "    </tr>\n",
       "    <tr>\n",
       "      <th>2</th>\n",
       "      <td>1</td>\n",
       "      <td>6067</td>\n",
       "      <td>-3.00</td>\n",
       "      <td>47.52</td>\n",
       "      <td>225.71</td>\n",
       "      <td>228.49</td>\n",
       "      <td>228.03</td>\n",
       "      <td>226.91</td>\n",
       "      <td>215.8</td>\n",
       "      <td>216.4</td>\n",
       "      <td>...</td>\n",
       "      <td>1.17</td>\n",
       "      <td>MS</td>\n",
       "      <td>378</td>\n",
       "      <td>-0.4</td>\n",
       "      <td>0</td>\n",
       "      <td>1.2</td>\n",
       "      <td>0.8</td>\n",
       "      <td>0.48</td>\n",
       "      <td>2020020100001</td>\n",
       "      <td>2020-02-01 00:30:00</td>\n",
       "    </tr>\n",
       "    <tr>\n",
       "      <th>3</th>\n",
       "      <td>2</td>\n",
       "      <td>6044</td>\n",
       "      <td>-2.90</td>\n",
       "      <td>47.54</td>\n",
       "      <td>225.48</td>\n",
       "      <td>228.18</td>\n",
       "      <td>227.72</td>\n",
       "      <td>226.62</td>\n",
       "      <td>215.2</td>\n",
       "      <td>215.6</td>\n",
       "      <td>...</td>\n",
       "      <td>1.34</td>\n",
       "      <td>MS</td>\n",
       "      <td>-23</td>\n",
       "      <td>-1.6</td>\n",
       "      <td>-3.2</td>\n",
       "      <td>-0.8</td>\n",
       "      <td>-2.8</td>\n",
       "      <td>0.39</td>\n",
       "      <td>2020020100001</td>\n",
       "      <td>2020-02-01 00:45:00</td>\n",
       "    </tr>\n",
       "    <tr>\n",
       "      <th>4</th>\n",
       "      <td>2</td>\n",
       "      <td>5975</td>\n",
       "      <td>-2.69</td>\n",
       "      <td>47.57</td>\n",
       "      <td>225.46</td>\n",
       "      <td>228.11</td>\n",
       "      <td>227.68</td>\n",
       "      <td>226.59</td>\n",
       "      <td>215.9</td>\n",
       "      <td>215.6</td>\n",
       "      <td>...</td>\n",
       "      <td>1.14</td>\n",
       "      <td>S</td>\n",
       "      <td>-69</td>\n",
       "      <td>0.8</td>\n",
       "      <td>1.6</td>\n",
       "      <td>-0.4</td>\n",
       "      <td>1.2</td>\n",
       "      <td>0.12</td>\n",
       "      <td>2020020100001</td>\n",
       "      <td>2020-02-01 01:00:00</td>\n",
       "    </tr>\n",
       "    <tr>\n",
       "      <th>...</th>\n",
       "      <td>...</td>\n",
       "      <td>...</td>\n",
       "      <td>...</td>\n",
       "      <td>...</td>\n",
       "      <td>...</td>\n",
       "      <td>...</td>\n",
       "      <td>...</td>\n",
       "      <td>...</td>\n",
       "      <td>...</td>\n",
       "      <td>...</td>\n",
       "      <td>...</td>\n",
       "      <td>...</td>\n",
       "      <td>...</td>\n",
       "      <td>...</td>\n",
       "      <td>...</td>\n",
       "      <td>...</td>\n",
       "      <td>...</td>\n",
       "      <td>...</td>\n",
       "      <td>...</td>\n",
       "      <td>...</td>\n",
       "      <td>...</td>\n",
       "    </tr>\n",
       "    <tr>\n",
       "      <th>8502</th>\n",
       "      <td>36</td>\n",
       "      <td>91</td>\n",
       "      <td>2.32</td>\n",
       "      <td>30.96</td>\n",
       "      <td>227.33</td>\n",
       "      <td>229.63</td>\n",
       "      <td>229.87</td>\n",
       "      <td>229.60</td>\n",
       "      <td>223.7</td>\n",
       "      <td>224.2</td>\n",
       "      <td>...</td>\n",
       "      <td>0.00</td>\n",
       "      <td>N</td>\n",
       "      <td>8</td>\n",
       "      <td>1.6</td>\n",
       "      <td>-0.4</td>\n",
       "      <td>8</td>\n",
       "      <td>-6.4</td>\n",
       "      <td>0.21</td>\n",
       "      <td>20200208033028</td>\n",
       "      <td>2020-02-08 04:15:00</td>\n",
       "    </tr>\n",
       "    <tr>\n",
       "      <th>8503</th>\n",
       "      <td>9</td>\n",
       "      <td>197</td>\n",
       "      <td>-3.20</td>\n",
       "      <td>45.14</td>\n",
       "      <td>225.91</td>\n",
       "      <td>230.45</td>\n",
       "      <td>229.31</td>\n",
       "      <td>227.70</td>\n",
       "      <td>218.8</td>\n",
       "      <td>221.9</td>\n",
       "      <td>...</td>\n",
       "      <td>0.00</td>\n",
       "      <td>N</td>\n",
       "      <td>0.0</td>\n",
       "      <td>0.0</td>\n",
       "      <td>0.0</td>\n",
       "      <td>0.0</td>\n",
       "      <td>0.0</td>\n",
       "      <td>0.0</td>\n",
       "      <td>2020020803309</td>\n",
       "      <td>2020-02-08 03:30:00</td>\n",
       "    </tr>\n",
       "    <tr>\n",
       "      <th>8504</th>\n",
       "      <td>10</td>\n",
       "      <td>164</td>\n",
       "      <td>-3.20</td>\n",
       "      <td>45.10</td>\n",
       "      <td>225.32</td>\n",
       "      <td>229.59</td>\n",
       "      <td>228.52</td>\n",
       "      <td>226.96</td>\n",
       "      <td>219.6</td>\n",
       "      <td>221.9</td>\n",
       "      <td>...</td>\n",
       "      <td>0.00</td>\n",
       "      <td>S</td>\n",
       "      <td>-33</td>\n",
       "      <td>-1.6</td>\n",
       "      <td>0</td>\n",
       "      <td>-11.6</td>\n",
       "      <td>-10.8</td>\n",
       "      <td>-2.22</td>\n",
       "      <td>2020020803309</td>\n",
       "      <td>2020-02-08 03:45:00</td>\n",
       "    </tr>\n",
       "    <tr>\n",
       "      <th>8505</th>\n",
       "      <td>11</td>\n",
       "      <td>169</td>\n",
       "      <td>-3.07</td>\n",
       "      <td>45.20</td>\n",
       "      <td>226.03</td>\n",
       "      <td>230.36</td>\n",
       "      <td>229.41</td>\n",
       "      <td>227.91</td>\n",
       "      <td>220.2</td>\n",
       "      <td>223.4</td>\n",
       "      <td>...</td>\n",
       "      <td>0.00</td>\n",
       "      <td>N</td>\n",
       "      <td>5</td>\n",
       "      <td>3.2</td>\n",
       "      <td>4</td>\n",
       "      <td>13.6</td>\n",
       "      <td>-3.2</td>\n",
       "      <td>-2.09</td>\n",
       "      <td>2020020803309</td>\n",
       "      <td>2020-02-08 04:00:00</td>\n",
       "    </tr>\n",
       "    <tr>\n",
       "      <th>8506</th>\n",
       "      <td>10</td>\n",
       "      <td>176</td>\n",
       "      <td>-2.95</td>\n",
       "      <td>45.30</td>\n",
       "      <td>226.89</td>\n",
       "      <td>231.19</td>\n",
       "      <td>230.47</td>\n",
       "      <td>228.99</td>\n",
       "      <td>220.7</td>\n",
       "      <td>223.8</td>\n",
       "      <td>...</td>\n",
       "      <td>0.00</td>\n",
       "      <td>N</td>\n",
       "      <td>7</td>\n",
       "      <td>0.8</td>\n",
       "      <td>0.8</td>\n",
       "      <td>-24</td>\n",
       "      <td>-14</td>\n",
       "      <td>-1.18</td>\n",
       "      <td>2020020803309</td>\n",
       "      <td>2020-02-08 04:15:00</td>\n",
       "    </tr>\n",
       "  </tbody>\n",
       "</table>\n",
       "<p>8507 rows × 28 columns</p>\n",
       "</div>"
      ]
     },
     "metadata": {
      "application/vnd.databricks.v1+output": {
       "addedWidgets": {},
       "arguments": {},
       "data": "<div>\n<style scoped>\n    .dataframe tbody tr th:only-of-type {\n        vertical-align: middle;\n    }\n\n    .dataframe tbody tr th {\n        vertical-align: top;\n    }\n\n    .dataframe thead th {\n        text-align: right;\n    }\n</style>\n<table border=\"1\" class=\"dataframe\">\n  <thead>\n    <tr style=\"text-align: right;\">\n      <th></th>\n      <th>ID</th>\n      <th>Area_Size</th>\n      <th>Xg_Cloud</th>\n      <th>Yg_Cloud</th>\n      <th>T_Mean_B5</th>\n      <th>T_Mean_B6</th>\n      <th>T_Mean_B7</th>\n      <th>T_Mean_B9</th>\n      <th>T_Mean_B10</th>\n      <th>T_Min_B5</th>\n      <th>...</th>\n      <th>T_Mode_B10</th>\n      <th>M_S_Symbol</th>\n      <th>d_area</th>\n      <th>d_tempC10_B5</th>\n      <th>d_tempC10_B9</th>\n      <th>d_tempC50_B5</th>\n      <th>d_tempC50_B9</th>\n      <th>Skew_B9</th>\n      <th>CloudID</th>\n      <th>Timestamp</th>\n    </tr>\n  </thead>\n  <tbody>\n    <tr>\n      <th>0</th>\n      <td>1</td>\n      <td>5536</td>\n      <td>-3.13</td>\n      <td>47.49</td>\n      <td>225.84</td>\n      <td>228.68</td>\n      <td>228.20</td>\n      <td>227.04</td>\n      <td>215.3</td>\n      <td>215.6</td>\n      <td>...</td>\n      <td>1.25</td>\n      <td>N</td>\n      <td>0.0</td>\n      <td>0.0</td>\n      <td>0.0</td>\n      <td>0.0</td>\n      <td>0.0</td>\n      <td>0.0</td>\n      <td>2020020100001</td>\n      <td>2020-02-01 00:00:00</td>\n    </tr>\n    <tr>\n      <th>1</th>\n      <td>1</td>\n      <td>5689</td>\n      <td>-3.06</td>\n      <td>47.56</td>\n      <td>225.84</td>\n      <td>228.65</td>\n      <td>228.17</td>\n      <td>227.03</td>\n      <td>216.3</td>\n      <td>216.1</td>\n      <td>...</td>\n      <td>1.05</td>\n      <td>S</td>\n      <td>153</td>\n      <td>1.2</td>\n      <td>1.6</td>\n      <td>0.4</td>\n      <td>1.6</td>\n      <td>0.89</td>\n      <td>2020020100001</td>\n      <td>2020-02-01 00:15:00</td>\n    </tr>\n    <tr>\n      <th>2</th>\n      <td>1</td>\n      <td>6067</td>\n      <td>-3.00</td>\n      <td>47.52</td>\n      <td>225.71</td>\n      <td>228.49</td>\n      <td>228.03</td>\n      <td>226.91</td>\n      <td>215.8</td>\n      <td>216.4</td>\n      <td>...</td>\n      <td>1.17</td>\n      <td>MS</td>\n      <td>378</td>\n      <td>-0.4</td>\n      <td>0</td>\n      <td>1.2</td>\n      <td>0.8</td>\n      <td>0.48</td>\n      <td>2020020100001</td>\n      <td>2020-02-01 00:30:00</td>\n    </tr>\n    <tr>\n      <th>3</th>\n      <td>2</td>\n      <td>6044</td>\n      <td>-2.90</td>\n      <td>47.54</td>\n      <td>225.48</td>\n      <td>228.18</td>\n      <td>227.72</td>\n      <td>226.62</td>\n      <td>215.2</td>\n      <td>215.6</td>\n      <td>...</td>\n      <td>1.34</td>\n      <td>MS</td>\n      <td>-23</td>\n      <td>-1.6</td>\n      <td>-3.2</td>\n      <td>-0.8</td>\n      <td>-2.8</td>\n      <td>0.39</td>\n      <td>2020020100001</td>\n      <td>2020-02-01 00:45:00</td>\n    </tr>\n    <tr>\n      <th>4</th>\n      <td>2</td>\n      <td>5975</td>\n      <td>-2.69</td>\n      <td>47.57</td>\n      <td>225.46</td>\n      <td>228.11</td>\n      <td>227.68</td>\n      <td>226.59</td>\n      <td>215.9</td>\n      <td>215.6</td>\n      <td>...</td>\n      <td>1.14</td>\n      <td>S</td>\n      <td>-69</td>\n      <td>0.8</td>\n      <td>1.6</td>\n      <td>-0.4</td>\n      <td>1.2</td>\n      <td>0.12</td>\n      <td>2020020100001</td>\n      <td>2020-02-01 01:00:00</td>\n    </tr>\n    <tr>\n      <th>...</th>\n      <td>...</td>\n      <td>...</td>\n      <td>...</td>\n      <td>...</td>\n      <td>...</td>\n      <td>...</td>\n      <td>...</td>\n      <td>...</td>\n      <td>...</td>\n      <td>...</td>\n      <td>...</td>\n      <td>...</td>\n      <td>...</td>\n      <td>...</td>\n      <td>...</td>\n      <td>...</td>\n      <td>...</td>\n      <td>...</td>\n      <td>...</td>\n      <td>...</td>\n      <td>...</td>\n    </tr>\n    <tr>\n      <th>8502</th>\n      <td>36</td>\n      <td>91</td>\n      <td>2.32</td>\n      <td>30.96</td>\n      <td>227.33</td>\n      <td>229.63</td>\n      <td>229.87</td>\n      <td>229.60</td>\n      <td>223.7</td>\n      <td>224.2</td>\n      <td>...</td>\n      <td>0.00</td>\n      <td>N</td>\n      <td>8</td>\n      <td>1.6</td>\n      <td>-0.4</td>\n      <td>8</td>\n      <td>-6.4</td>\n      <td>0.21</td>\n      <td>20200208033028</td>\n      <td>2020-02-08 04:15:00</td>\n    </tr>\n    <tr>\n      <th>8503</th>\n      <td>9</td>\n      <td>197</td>\n      <td>-3.20</td>\n      <td>45.14</td>\n      <td>225.91</td>\n      <td>230.45</td>\n      <td>229.31</td>\n      <td>227.70</td>\n      <td>218.8</td>\n      <td>221.9</td>\n      <td>...</td>\n      <td>0.00</td>\n      <td>N</td>\n      <td>0.0</td>\n      <td>0.0</td>\n      <td>0.0</td>\n      <td>0.0</td>\n      <td>0.0</td>\n      <td>0.0</td>\n      <td>2020020803309</td>\n      <td>2020-02-08 03:30:00</td>\n    </tr>\n    <tr>\n      <th>8504</th>\n      <td>10</td>\n      <td>164</td>\n      <td>-3.20</td>\n      <td>45.10</td>\n      <td>225.32</td>\n      <td>229.59</td>\n      <td>228.52</td>\n      <td>226.96</td>\n      <td>219.6</td>\n      <td>221.9</td>\n      <td>...</td>\n      <td>0.00</td>\n      <td>S</td>\n      <td>-33</td>\n      <td>-1.6</td>\n      <td>0</td>\n      <td>-11.6</td>\n      <td>-10.8</td>\n      <td>-2.22</td>\n      <td>2020020803309</td>\n      <td>2020-02-08 03:45:00</td>\n    </tr>\n    <tr>\n      <th>8505</th>\n      <td>11</td>\n      <td>169</td>\n      <td>-3.07</td>\n      <td>45.20</td>\n      <td>226.03</td>\n      <td>230.36</td>\n      <td>229.41</td>\n      <td>227.91</td>\n      <td>220.2</td>\n      <td>223.4</td>\n      <td>...</td>\n      <td>0.00</td>\n      <td>N</td>\n      <td>5</td>\n      <td>3.2</td>\n      <td>4</td>\n      <td>13.6</td>\n      <td>-3.2</td>\n      <td>-2.09</td>\n      <td>2020020803309</td>\n      <td>2020-02-08 04:00:00</td>\n    </tr>\n    <tr>\n      <th>8506</th>\n      <td>10</td>\n      <td>176</td>\n      <td>-2.95</td>\n      <td>45.30</td>\n      <td>226.89</td>\n      <td>231.19</td>\n      <td>230.47</td>\n      <td>228.99</td>\n      <td>220.7</td>\n      <td>223.8</td>\n      <td>...</td>\n      <td>0.00</td>\n      <td>N</td>\n      <td>7</td>\n      <td>0.8</td>\n      <td>0.8</td>\n      <td>-24</td>\n      <td>-14</td>\n      <td>-1.18</td>\n      <td>2020020803309</td>\n      <td>2020-02-08 04:15:00</td>\n    </tr>\n  </tbody>\n</table>\n<p>8507 rows × 28 columns</p>\n</div>",
       "datasetInfos": [],
       "metadata": {},
       "removedWidgets": [],
       "textData": null,
       "type": "htmlSandbox"
      }
     },
     "output_type": "display_data"
    }
   ],
   "source": [
    "FinalDataframe"
   ]
  },
  {
   "cell_type": "code",
   "execution_count": 0,
   "metadata": {
    "application/vnd.databricks.v1+cell": {
     "cellMetadata": {
      "byteLimit": 2048000,
      "rowLimit": 10000
     },
     "inputWidgets": {},
     "nuid": "17834b41-780c-4d39-aa4a-1995e334b830",
     "showTitle": false,
     "title": ""
    }
   },
   "outputs": [],
   "source": [
    "# Create a dataframe for the CloudIDs table as well\n",
    "IDs_df = pd.DataFrame({\"Filenames\": list(DictionaryofIDs.keys()), \"CloudID\": list(DictionaryofIDs.values())})"
   ]
  },
  {
   "cell_type": "code",
   "execution_count": 0,
   "metadata": {
    "application/vnd.databricks.v1+cell": {
     "cellMetadata": {
      "byteLimit": 2048000,
      "rowLimit": 10000
     },
     "inputWidgets": {},
     "nuid": "d8788e0c-006f-4267-8381-590069ca6304",
     "showTitle": false,
     "title": ""
    }
   },
   "outputs": [
    {
     "output_type": "display_data",
     "data": {
      "text/html": [
       "<div>\n",
       "<style scoped>\n",
       "    .dataframe tbody tr th:only-of-type {\n",
       "        vertical-align: middle;\n",
       "    }\n",
       "\n",
       "    .dataframe tbody tr th {\n",
       "        vertical-align: top;\n",
       "    }\n",
       "\n",
       "    .dataframe thead th {\n",
       "        text-align: right;\n",
       "    }\n",
       "</style>\n",
       "<table border=\"1\" class=\"dataframe\">\n",
       "  <thead>\n",
       "    <tr style=\"text-align: right;\">\n",
       "      <th></th>\n",
       "      <th>Filenames</th>\n",
       "      <th>CloudID</th>\n",
       "    </tr>\n",
       "  </thead>\n",
       "  <tbody>\n",
       "    <tr>\n",
       "      <th>0</th>\n",
       "      <td>MSG4-202002010000.1-MSG4-202002010600.1.txt</td>\n",
       "      <td>2020020100001</td>\n",
       "    </tr>\n",
       "    <tr>\n",
       "      <th>1</th>\n",
       "      <td>MSG4-202002010000.22-MSG4-202002010045.23.txt</td>\n",
       "      <td>20200201000022</td>\n",
       "    </tr>\n",
       "    <tr>\n",
       "      <th>2</th>\n",
       "      <td>MSG4-202002010000.4-MSG4-202002010245.7.txt</td>\n",
       "      <td>2020020100004</td>\n",
       "    </tr>\n",
       "    <tr>\n",
       "      <th>3</th>\n",
       "      <td>MSG4-202002010000.41-MSG4-202002010045.45.txt</td>\n",
       "      <td>20200201000041</td>\n",
       "    </tr>\n",
       "    <tr>\n",
       "      <th>4</th>\n",
       "      <td>MSG4-202002010000.45-MSG4-202002010045.47.txt</td>\n",
       "      <td>20200201000045</td>\n",
       "    </tr>\n",
       "    <tr>\n",
       "      <th>...</th>\n",
       "      <td>...</td>\n",
       "      <td>...</td>\n",
       "    </tr>\n",
       "    <tr>\n",
       "      <th>1187</th>\n",
       "      <td>MSG4-202002080315.1-MSG4-202002080415.1.txt</td>\n",
       "      <td>2020020803151</td>\n",
       "    </tr>\n",
       "    <tr>\n",
       "      <th>1188</th>\n",
       "      <td>MSG4-202002080315.30-MSG4-202002080415.33.txt</td>\n",
       "      <td>20200208031530</td>\n",
       "    </tr>\n",
       "    <tr>\n",
       "      <th>1189</th>\n",
       "      <td>MSG4-202002080330.23-MSG4-202002080415.28.txt</td>\n",
       "      <td>20200208033023</td>\n",
       "    </tr>\n",
       "    <tr>\n",
       "      <th>1190</th>\n",
       "      <td>MSG4-202002080330.28-MSG4-202002080415.36.txt</td>\n",
       "      <td>20200208033028</td>\n",
       "    </tr>\n",
       "    <tr>\n",
       "      <th>1191</th>\n",
       "      <td>MSG4-202002080330.9-MSG4-202002080415.10.txt</td>\n",
       "      <td>2020020803309</td>\n",
       "    </tr>\n",
       "  </tbody>\n",
       "</table>\n",
       "<p>1192 rows × 2 columns</p>\n",
       "</div>"
      ]
     },
     "metadata": {
      "application/vnd.databricks.v1+output": {
       "addedWidgets": {},
       "arguments": {},
       "data": "<div>\n<style scoped>\n    .dataframe tbody tr th:only-of-type {\n        vertical-align: middle;\n    }\n\n    .dataframe tbody tr th {\n        vertical-align: top;\n    }\n\n    .dataframe thead th {\n        text-align: right;\n    }\n</style>\n<table border=\"1\" class=\"dataframe\">\n  <thead>\n    <tr style=\"text-align: right;\">\n      <th></th>\n      <th>Filenames</th>\n      <th>CloudID</th>\n    </tr>\n  </thead>\n  <tbody>\n    <tr>\n      <th>0</th>\n      <td>MSG4-202002010000.1-MSG4-202002010600.1.txt</td>\n      <td>2020020100001</td>\n    </tr>\n    <tr>\n      <th>1</th>\n      <td>MSG4-202002010000.22-MSG4-202002010045.23.txt</td>\n      <td>20200201000022</td>\n    </tr>\n    <tr>\n      <th>2</th>\n      <td>MSG4-202002010000.4-MSG4-202002010245.7.txt</td>\n      <td>2020020100004</td>\n    </tr>\n    <tr>\n      <th>3</th>\n      <td>MSG4-202002010000.41-MSG4-202002010045.45.txt</td>\n      <td>20200201000041</td>\n    </tr>\n    <tr>\n      <th>4</th>\n      <td>MSG4-202002010000.45-MSG4-202002010045.47.txt</td>\n      <td>20200201000045</td>\n    </tr>\n    <tr>\n      <th>...</th>\n      <td>...</td>\n      <td>...</td>\n    </tr>\n    <tr>\n      <th>1187</th>\n      <td>MSG4-202002080315.1-MSG4-202002080415.1.txt</td>\n      <td>2020020803151</td>\n    </tr>\n    <tr>\n      <th>1188</th>\n      <td>MSG4-202002080315.30-MSG4-202002080415.33.txt</td>\n      <td>20200208031530</td>\n    </tr>\n    <tr>\n      <th>1189</th>\n      <td>MSG4-202002080330.23-MSG4-202002080415.28.txt</td>\n      <td>20200208033023</td>\n    </tr>\n    <tr>\n      <th>1190</th>\n      <td>MSG4-202002080330.28-MSG4-202002080415.36.txt</td>\n      <td>20200208033028</td>\n    </tr>\n    <tr>\n      <th>1191</th>\n      <td>MSG4-202002080330.9-MSG4-202002080415.10.txt</td>\n      <td>2020020803309</td>\n    </tr>\n  </tbody>\n</table>\n<p>1192 rows × 2 columns</p>\n</div>",
       "datasetInfos": [],
       "metadata": {},
       "removedWidgets": [],
       "textData": null,
       "type": "htmlSandbox"
      }
     },
     "output_type": "display_data"
    }
   ],
   "source": [
    "IDs_df"
   ]
  },
  {
   "cell_type": "code",
   "execution_count": 0,
   "metadata": {
    "application/vnd.databricks.v1+cell": {
     "cellMetadata": {},
     "inputWidgets": {},
     "nuid": "1ff96303-a123-4a8c-8d55-527a4ae0ae3b",
     "showTitle": false,
     "title": ""
    }
   },
   "outputs": [],
   "source": []
  },
  {
   "cell_type": "markdown",
   "metadata": {
    "application/vnd.databricks.v1+cell": {
     "cellMetadata": {},
     "inputWidgets": {},
     "nuid": "d0db819c-75ed-423a-bcf6-fec1fc6d7d8d",
     "showTitle": false,
     "title": ""
    }
   },
   "source": [
    "### [5] Creating the SQL Database\n",
    "\n",
    "First, we establish a connection to the default database setup while setting up the Azure PostgreSQL service, which is called `postgres`. From there, we create our own database, to be used for the purposes of the project. Note, that this can be done in a very simple way using the Azure Interface. If you choose to add the new database using the Azure Interface, you can skip this part."
   ]
  },
  {
   "cell_type": "code",
   "execution_count": 0,
   "metadata": {
    "application/vnd.databricks.v1+cell": {
     "cellMetadata": {
      "byteLimit": 2048000,
      "rowLimit": 10000
     },
     "inputWidgets": {},
     "nuid": "32c271b3-90f1-4fc0-9bf5-b9f01e74d64b",
     "showTitle": false,
     "title": ""
    }
   },
   "outputs": [],
   "source": [
    "import psycopg2\n",
    "\n",
    "from psycopg2.extensions import ISOLATION_LEVEL_AUTOCOMMIT\n",
    "\n",
    "# Set parameters for initial connection to new-built database server\n",
    "host = 'postgresbase-trajectories-server.postgres.database.azure.com'\n",
    "database = 'postgres'\n",
    "user = 'cloudadmin'\n",
    "password = dbutils.secrets.get(scope=\"key-vault-connect\", key=\"postgres-password\")\n",
    "port = '5432'\n",
    "sslmode = 'require'\n",
    "\n",
    "# Connect to the PostgreSQL server\n",
    "conn_string = f\"host={host} user={user} dbname={database} password={password} sslmode={sslmode}\"\n",
    "conn = psycopg2.connect(conn_string)\n",
    "\n",
    "# We have to add this here\n",
    "conn.set_isolation_level(ISOLATION_LEVEL_AUTOCOMMIT)\n",
    "\n",
    "# Open a cursor to perform database operations\n",
    "cur = conn.cursor()"
   ]
  },
  {
   "cell_type": "code",
   "execution_count": 0,
   "metadata": {
    "application/vnd.databricks.v1+cell": {
     "cellMetadata": {
      "byteLimit": 2048000,
      "rowLimit": 10000
     },
     "inputWidgets": {},
     "nuid": "cd6a6032-a267-4213-9653-065f01000a3c",
     "showTitle": false,
     "title": ""
    }
   },
   "outputs": [
    {
     "output_type": "stream",
     "name": "stdout",
     "output_type": "stream",
     "text": [
      "clouddb database already constructed.\n"
     ]
    }
   ],
   "source": [
    "cur.execute(\"SELECT 1 FROM pg_database WHERE datname = %s\", ('clouddb',))\n",
    "\n",
    "fetched = cur.fetchone()\n",
    "\n",
    "if fetched:\n",
    "    print(\"clouddb database already constructed.\")\n",
    "else:\n",
    "    # Query to create a new database\n",
    "    query_create = \"\"\"CREATE DATABASE clouddb\n",
    "                    ENCODING 'UTF8'\n",
    "                \"\"\"\n",
    "\n",
    "    # Execute the query\n",
    "    cur.execute(query_create)\n",
    "\n",
    "# Close the cursor and connection\n",
    "cur.close()\n",
    "conn.close()"
   ]
  },
  {
   "cell_type": "code",
   "execution_count": 0,
   "metadata": {
    "application/vnd.databricks.v1+cell": {
     "cellMetadata": {},
     "inputWidgets": {},
     "nuid": "96f80535-a3a9-487c-99a1-619bfc301f8f",
     "showTitle": false,
     "title": ""
    }
   },
   "outputs": [],
   "source": []
  },
  {
   "cell_type": "markdown",
   "metadata": {
    "application/vnd.databricks.v1+cell": {
     "cellMetadata": {
      "byteLimit": 2048000,
      "rowLimit": 10000
     },
     "inputWidgets": {},
     "nuid": "2dc036b5-845c-47b5-8acb-a82c39ee784d",
     "showTitle": false,
     "title": ""
    }
   },
   "source": [
    "### [6] Establish a connection to the new database and create tables"
   ]
  },
  {
   "cell_type": "code",
   "execution_count": 0,
   "metadata": {
    "application/vnd.databricks.v1+cell": {
     "cellMetadata": {
      "byteLimit": 2048000,
      "rowLimit": 10000
     },
     "inputWidgets": {},
     "nuid": "6524a66d-8047-4f6e-9b1e-076fcbe9fe2a",
     "showTitle": false,
     "title": ""
    }
   },
   "outputs": [],
   "source": [
    "# Set parameters for connection to new-built database server\n",
    "host = 'postgresbase-trajectories-server.postgres.database.azure.com'\n",
    "database = 'clouddb'\n",
    "user = 'cloudadmin'\n",
    "password = dbutils.secrets.get(scope=\"key-vault-connect\", key=\"postgres-password\")\n",
    "port = '5432'\n",
    "sslmode = 'require'\n",
    "\n",
    "# Connect to the PostgreSQL server\n",
    "conn_string = f\"host={host} user={user} dbname={database} password={password} sslmode={sslmode}\"\n",
    "conn = psycopg2.connect(conn_string)\n",
    "\n",
    "# We have to add this here\n",
    "conn.set_isolation_level(ISOLATION_LEVEL_AUTOCOMMIT)\n",
    "\n",
    "# Open a cursor to perform database operations\n",
    "cur = conn.cursor()"
   ]
  },
  {
   "cell_type": "code",
   "execution_count": 0,
   "metadata": {
    "application/vnd.databricks.v1+cell": {
     "cellMetadata": {
      "byteLimit": 2048000,
      "rowLimit": 10000
     },
     "inputWidgets": {},
     "nuid": "63348208-d497-4cf3-8246-b5ebded4b865",
     "showTitle": false,
     "title": ""
    }
   },
   "outputs": [],
   "source": [
    "# Query to create filenames-cloudid database table\n",
    "table1_query = \"\"\"CREATE TABLE cloudids (\n",
    "                    filenames TEXT,\n",
    "                    cloudid BIGINT\n",
    "                )\"\"\"\n",
    "\n",
    "# Execute this query\n",
    "cur.execute(table1_query)"
   ]
  },
  {
   "cell_type": "code",
   "execution_count": 0,
   "metadata": {
    "application/vnd.databricks.v1+cell": {
     "cellMetadata": {
      "byteLimit": 2048000,
      "rowLimit": 10000
     },
     "inputWidgets": {},
     "nuid": "c6f02ff5-9975-491b-9dad-d9981f4a2f2c",
     "showTitle": false,
     "title": ""
    }
   },
   "outputs": [],
   "source": [
    "# Query to create the whole dataset's database table\n",
    "table2_query = \"\"\"CREATE TABLE dataset (\n",
    "                    id INTEGER,\n",
    "                    area_size INTEGER,\n",
    "                    xg_cloud REAL,\n",
    "                    yg_cloud REAL,\n",
    "                    t_mean_b5 REAL,\n",
    "                    t_mean_b6 REAL,\n",
    "                    t_mean_b7 REAL,\n",
    "                    t_mean_b9 REAL,\n",
    "                    t_mean_b10 REAL,\n",
    "                    t_min_b5 REAL,\n",
    "                    t_min_b6 REAL,\n",
    "                    t_min_b7 REAL,\n",
    "                    t_min_b9 REAL,\n",
    "                    t_min_b10 REAL,\n",
    "                    t_mode_b5 REAL,\n",
    "                    t_mode_b6 REAL,\n",
    "                    t_mode_b7 REAL,\n",
    "                    t_mode_b9 REAL,\n",
    "                    t_mode_b10 REAL,\n",
    "                    m_s_symbol VARCHAR(5),\n",
    "                    d_area REAL,\n",
    "                    d_tempc10_b5 REAL,\n",
    "                    d_tempc10_b9 REAL,\n",
    "                    d_tempc50_b5 REAL,\n",
    "                    d_tempc50_b9 REAL,\n",
    "                    skew_b9 REAL,\n",
    "                    cloudid BIGINT,\n",
    "                    timestamp TIMESTAMP\n",
    "                )\"\"\"\n",
    "\n",
    "# Execute this query\n",
    "cur.execute(table2_query)"
   ]
  },
  {
   "cell_type": "code",
   "execution_count": 0,
   "metadata": {
    "application/vnd.databricks.v1+cell": {
     "cellMetadata": {
      "byteLimit": 2048000,
      "rowLimit": 10000
     },
     "inputWidgets": {},
     "nuid": "7b8112a8-997c-4581-8c1b-d2f222abf35c",
     "showTitle": false,
     "title": ""
    }
   },
   "outputs": [],
   "source": []
  },
  {
   "cell_type": "markdown",
   "metadata": {
    "application/vnd.databricks.v1+cell": {
     "cellMetadata": {
      "byteLimit": 2048000,
      "rowLimit": 10000
     },
     "inputWidgets": {},
     "nuid": "87eb5a3f-249e-4a8b-9dfd-4a5c84c04321",
     "showTitle": false,
     "title": ""
    }
   },
   "source": [
    "### [7] Populate the tables with the dataframes data"
   ]
  },
  {
   "cell_type": "code",
   "execution_count": 0,
   "metadata": {
    "application/vnd.databricks.v1+cell": {
     "cellMetadata": {
      "byteLimit": 2048000,
      "rowLimit": 10000
     },
     "inputWidgets": {},
     "nuid": "b6255c97-cc5b-4095-abfa-f7eef431ca6e",
     "showTitle": false,
     "title": ""
    }
   },
   "outputs": [],
   "source": [
    "# Make the list containing tuples (Filenames, CloudID)\n",
    "cloudidsdata = []\n",
    "\n",
    "for index, row in IDs_df.iterrows():\n",
    "    cloudidsdata.append((row['Filenames'], row['CloudID']))\n",
    "    \n",
    "\n",
    "# Query to insert\n",
    "query_to_insert = \"\"\"INSERT INTO cloudids (filenames, cloudid) VALUES (%s,%s)\"\"\"\n",
    "\n",
    "# Query to execute\n",
    "cur.executemany(query_to_insert, cloudidsdata)"
   ]
  },
  {
   "cell_type": "code",
   "execution_count": 0,
   "metadata": {
    "application/vnd.databricks.v1+cell": {
     "cellMetadata": {
      "byteLimit": 2048000,
      "rowLimit": 10000
     },
     "inputWidgets": {},
     "nuid": "5f2ef205-1090-4df6-9534-b1caf8279150",
     "showTitle": false,
     "title": ""
    }
   },
   "outputs": [],
   "source": [
    "# Make the list containing tuples (.......)\n",
    "datasetdata = []\n",
    "\n",
    "for index, row in FinalDataframe.iterrows():\n",
    "    datasetdata.append((row['ID'], row['Area_Size'], row['Xg_Cloud'], row['Yg_Cloud'], row[\"T_Mean_B5\"], row[\"T_Mean_B6\"], row[\"T_Mean_B7\"], row[\"T_Mean_B9\"], row[\"T_Mean_B10\"], row[\"T_Min_B5\"], row[\"T_Min_B6\"], row[\"T_Min_B7\"], row[\"T_Min_B9\"], row[\"T_Min_B10\"], row[\"T_Mode_B5\"], row[\"T_Mode_B6\"], row[\"T_Mode_B7\"], row[\"T_Mode_B9\"], row[\"T_Mode_B10\"], row[\"M_S_Symbol\"], row[\"d_area\"], row[\"d_tempC10_B5\"], row[\"d_tempC10_B9\"], row[\"d_tempC50_B5\"], row[\"d_tempC50_B9\"], row[\"Skew_B9\"], row['CloudID'], row['Timestamp']))\n",
    "    \n",
    "\n",
    "# Query to insert\n",
    "query_to_insert = \"\"\"INSERT INTO dataset (id, area_size, xg_cloud, yg_cloud, t_mean_b5, t_mean_b6, t_mean_b7, t_mean_b9, t_mean_b10, t_min_b5, t_min_b6, t_min_b7, t_min_b9, t_min_b10, t_mode_b5, t_mode_b6, t_mode_b7, t_mode_b9, t_mode_b10, m_s_symbol, d_area, d_tempc10_b5, d_tempc10_b9, d_tempc50_b5, d_tempc50_b9, skew_b9, cloudid, timestamp) VALUES (%s,%s,%s,%s,%s,%s,%s,%s,%s,%s,%s,%s,%s,%s,%s,%s,%s,%s,%s,%s,%s,%s,%s,%s,%s,%s,%s,%s)\"\"\"\n",
    "\n",
    "# Query to execute\n",
    "cur.executemany(query_to_insert, datasetdata)"
   ]
  },
  {
   "cell_type": "code",
   "execution_count": 0,
   "metadata": {
    "application/vnd.databricks.v1+cell": {
     "cellMetadata": {
      "byteLimit": 2048000,
      "rowLimit": 10000
     },
     "inputWidgets": {},
     "nuid": "6901793d-8f12-4dff-ba4f-48d5794b379a",
     "showTitle": false,
     "title": ""
    }
   },
   "outputs": [],
   "source": [
    "# Close the cursor and database connection\n",
    "cur.close()\n",
    "conn.close()"
   ]
  }
 ],
 "metadata": {
  "application/vnd.databricks.v1+notebook": {
   "dashboards": [],
   "language": "python",
   "notebookMetadata": {
    "pythonIndentUnit": 4
   },
   "notebookName": "Notebook 1 - Full Dataset Ingestion",
   "widgets": {}
  }
 },
 "nbformat": 4,
 "nbformat_minor": 0
}
